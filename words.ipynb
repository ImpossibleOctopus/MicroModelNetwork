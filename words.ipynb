{
 "metadata": {
  "language_info": {
   "codemirror_mode": {
    "name": "ipython",
    "version": 3
   },
   "file_extension": ".py",
   "mimetype": "text/x-python",
   "name": "python",
   "nbconvert_exporter": "python",
   "pygments_lexer": "ipython3",
   "version": "3.9.2"
  },
  "orig_nbformat": 2,
  "kernelspec": {
   "name": "python3",
   "display_name": "Python 3.9.2 64-bit"
  },
  "metadata": {
   "interpreter": {
    "hash": "b7758c1af96c6f0965770169741ecf9addb10efb1cbd8a9b07b722c9fbf724ca"
   }
  },
  "interpreter": {
   "hash": "b7758c1af96c6f0965770169741ecf9addb10efb1cbd8a9b07b722c9fbf724ca"
  }
 },
 "nbformat": 4,
 "nbformat_minor": 2,
 "cells": [
  {
   "cell_type": "code",
   "execution_count": 41,
   "source": [
    "import numpy as np\r\n",
    "import random\r\n",
    "from MicroModelNode import MicroModelNode\r\n",
    "from MicroModelNetwork import MicroModelNetwork"
   ],
   "outputs": [],
   "metadata": {}
  },
  {
   "cell_type": "code",
   "execution_count": 29,
   "source": [
    "class BasicNode(MicroModelNode):\r\n",
    "    def __init__(self,size_of_input_vector):\r\n",
    "        n = size_of_input_vector\r\n",
    "        middle_input=.5\r\n",
    "        self.weights = [(random.random()-.5)*2 for _ in range(n)]\r\n",
    "        self.activation_weights = [(random.random()-.5)*2 for _ in range(n)]\r\n",
    "\r\n",
    "        self.ave_score = 0   \r\n",
    "        self.actsum = 0  \r\n",
    "        self.middle_input = middle_input  \r\n",
    "\r\n",
    "    def get(self,v):\r\n",
    "        value = self.getValue(v)\r\n",
    "        activation = self.getActivation(v)\r\n",
    "        return( (value,activation) )\r\n",
    "\r\n",
    "    def getValue(self,v):\r\n",
    "        total = 0\r\n",
    "        for i in range(len(v)):\r\n",
    "            total+=(v[i]-self.middle_input)*self.weights[i]\r\n",
    "        total = total/len(self.weights)\r\n",
    "        total = (total+1)/2\r\n",
    "        \r\n",
    "        return( total )\r\n",
    "\r\n",
    "    def getActivation(self,v):\r\n",
    "        activation_total = 0\r\n",
    "        for i in range(len(v)):\r\n",
    "            activation_total+=(v[i]-self.middle_input)*self.activation_weights[i]\r\n",
    "        activation_total = activation_total/len(self.weights)\r\n",
    "\r\n",
    "        if activation_total > 0 or activation_total <= .5:\r\n",
    "            activation_total =  abs(abs(activation_total - .25)-.25)*2 \r\n",
    "        else:\r\n",
    "            activation_total = 0\r\n",
    "        \r\n",
    "        return( activation_total )\r\n",
    "\r\n",
    "    def evaluate(self,v,expected):\r\n",
    "        result = self.getValue(v)\r\n",
    "        activation = self.getActivation(v)\r\n",
    "        score = 1-abs(result-expected)\r\n",
    "        adjusted_score = score*activation\r\n",
    "        if (self.actsum+activation) != 0:\r\n",
    "            self.ave_score = (self.ave_score*(self.actsum)+adjusted_score) / (self.actsum+activation)\r\n",
    "        self.actsum += activation\r\n",
    "\r\n",
    "    def clear_evaluation(self):\r\n",
    "        self.ave_score = 0\r\n",
    "        self.actsum = 0\r\n",
    "\r\n",
    "    def getWeights(self):\r\n",
    "        return(self.weights)\r\n",
    "\r\n",
    "    def getActivationWeights(self):\r\n",
    "        return(self.activation_weights)\r\n",
    "\r\n",
    "    def getAverageScore(self):\r\n",
    "        return(self.ave_score)"
   ],
   "outputs": [],
   "metadata": {}
  },
  {
   "cell_type": "code",
   "execution_count": 35,
   "source": [
    "class MicroModelNetwork2(MicroModelNetwork):\r\n",
    "\r\n",
    "    def __init__(self,vectorsize):\r\n",
    "        num_nodes = 200\r\n",
    "        self.vectorsize = vectorsize\r\n",
    "        self.nodes = [BasicNode(vectorsize) for _ in range(num_nodes)]\r\n",
    "        self.max_output = None\r\n",
    "        self.min_output = None\r\n",
    "\r\n",
    "        # for sorting\r\n",
    "        self.unsortedNodes = None\r\n",
    "        self.sortedNodes = None\r\n",
    "        self.average_vweights = None\r\n",
    "        self.average_aweights = None\r\n",
    "    \r\n",
    "    def get(self,v):\r\n",
    "        average = 0\r\n",
    "        total_activation = 0\r\n",
    "        for i in range(len(self.nodes)):\r\n",
    "            local_activation = self.nodes[i].getActivation(v)\r\n",
    "            local_result = self.nodes[i].getValue(v)\r\n",
    "            average += local_result * local_activation\r\n",
    "            total_activation += local_activation\r\n",
    "        if total_activation != 0:\r\n",
    "            average = average / total_activation\r\n",
    "        else:\r\n",
    "            average = 0\r\n",
    "        return(average)\r\n",
    "    \r\n",
    "    def getScaled(self,v):\r\n",
    "        unscaled = self.get(v)\r\n",
    "        if self.max_output!=0 or self.min_output!=0:\r\n",
    "            diff = abs(self.max_output - self.min_output)\r\n",
    "            average = (unscaled-self.min_output)/diff\r\n",
    "        return(average)\r\n",
    "    \r\n",
    "    def getScaled2(self,v):\r\n",
    "        scaled = self.getScaled(v)\r\n",
    "        if scaled < 0:\r\n",
    "            return(0)\r\n",
    "        elif scaled > 1:\r\n",
    "            return(1)\r\n",
    "        else:\r\n",
    "            return(scaled)\r\n",
    "    \r\n",
    "    def scale(self,v):\r\n",
    "        unscaled = self.get(v)\r\n",
    "        if self.max_output == None:\r\n",
    "            self.max_output = unscaled\r\n",
    "        else:\r\n",
    "            self.max_output = max( [self.max_output,unscaled] ) \r\n",
    "        \r\n",
    "        if self.min_output == None:\r\n",
    "            self.min_output = unscaled\r\n",
    "        else:\r\n",
    "            self.min_output = min( [self.min_output,unscaled] ) \r\n",
    "\r\n",
    "    def evaluate(self, v, expected):\r\n",
    "        for i in range(len(self.nodes)):\r\n",
    "            self.nodes[i].evaluate(v,expected)\r\n",
    "        self.scale(v)\r\n",
    "            \r\n",
    "    def __prune(self,remove_indices):\r\n",
    "        self.nodes = [self.nodes[i] for i in range(len(self.nodes)) if i not in remove_indices]\r\n",
    "\r\n",
    "    def __createADerivativeNode(self):\r\n",
    "        newnode = BasicNode(self.vectorsize)\r\n",
    "        dweights = [random.random() for _ in range(len(self.nodes))]\r\n",
    "        new_Weights = np.array([0 for _ in range(self.vectorsize)])\r\n",
    "\r\n",
    "        for i,node in enumerate(self.nodes):\r\n",
    "            new_Weights = new_Weights + np.array(node.weights) * dweights[i]\r\n",
    "        new_Weights = new_Weights/sum(dweights)\r\n",
    "        new_Weights = list(new_Weights)\r\n",
    "        newnode.weights = new_Weights\r\n",
    "        return(newnode)\r\n",
    "\r\n",
    "    def addDerivativeNodes(self,n):\r\n",
    "        newnodes = [self.__createADerivativeNode() for _ in range(n)]\r\n",
    "        self.nodes = self.nodes + newnodes\r\n",
    "     \r\n",
    "    def addNodes(self,n,MicroModelNodeClass=BasicNode):\r\n",
    "        newnodes = [MicroModelNodeClass(self.vectorsize) for _ in range(n)]\r\n",
    "        self.nodes = self.nodes+newnodes\r\n",
    "\r\n",
    "    def pruneLowestN(self,n):\r\n",
    "        x = [ (self.nodes[i].ave_score,i) for i in range(len(self.nodes)) ]\r\n",
    "        x.sort(key=lambda x:x[0])\r\n",
    "        x = x[:n]\r\n",
    "        remove_indices = [val[1] for val in x]\r\n",
    "        self.__prune(remove_indices)\r\n",
    "\r\n",
    "    def pruneAveScore(self,thresh):\r\n",
    "        remove_indices = set()\r\n",
    "        for i in range(len(self.nodes)):\r\n",
    "            if self.nodes[i].ave_score < thresh:\r\n",
    "                remove_indices.add(i)\r\n",
    "        self.__prune(remove_indices)\r\n",
    "\r\n",
    "    def pruneLowest(self,thresh,n):\r\n",
    "        x = [ (self.nodes[i].ave_score,i) for i in range(len(self.nodes)) ]\r\n",
    "        x.sort(key=lambda x:x[0])\r\n",
    "        x = x[:n]\r\n",
    "        remove_indices = [val[1] for val in x if val[0] < thresh]\r\n",
    "        self.__prune(remove_indices)\r\n",
    "        return( len(remove_indices) )\r\n",
    "    \r\n",
    "    def pruneRandom(self,n):\r\n",
    "        remove_indices = set()\r\n",
    "        for _ in range(n):\r\n",
    "            remove_indices = set([random.randint(0,len(self.nodes)-1)])\r\n",
    "            self.__prune(remove_indices)\r\n",
    "        return( len(remove_indices) )\r\n",
    "\r\n",
    "    def clearRange(self):\r\n",
    "        self.max_output     = None\r\n",
    "        self.min_output     = None\r\n",
    "\r\n",
    "    def __cosine_sim(self,v1,v2):\r\n",
    "        numerator = 0\r\n",
    "        denom_left = 0\r\n",
    "        denom_right = 0\r\n",
    "        for i in range(len(v1)):\r\n",
    "            numerator += v1[i] * v2[i]\r\n",
    "            denom_left += pow(v1[i],2)\r\n",
    "            denom_right += pow(v2[i],2)\r\n",
    "        denom_left = pow(denom_left,.5)\r\n",
    "        denom_right = pow(denom_right,.5)\r\n",
    "        denominator = denom_left*denom_right\r\n",
    "        if denominator == 0:\r\n",
    "            return(0)\r\n",
    "        answer = numerator / denominator\r\n",
    "        return(answer)\r\n",
    "\r\n",
    "    def __node_sim(self,node1, node2):\r\n",
    "        v1 = node1.weights + node1.activation_weights\r\n",
    "        v2 = node2.weights + node2.activation_weights\r\n",
    "        answer = self.__cosine_sim(v1,v2)\r\n",
    "        return(answer)\r\n",
    "\r\n",
    "    def remove_duplicates(self,sim_thresh,maximum_to_remove=None):\r\n",
    "        nonduplicates = self.nodes.copy()\r\n",
    "        removed = 0\r\n",
    "        maximum_met = False\r\n",
    "        for i,__ in enumerate(nonduplicates,start=0):\r\n",
    "            if i >= len(nonduplicates):\r\n",
    "                    maximum_met = True\r\n",
    "                    break\r\n",
    "            node = nonduplicates[i]\r\n",
    "            if maximum_met:\r\n",
    "                break\r\n",
    "            for j, ___ in enumerate(nonduplicates,start=i+1):\r\n",
    "                if j >= len(nonduplicates):\r\n",
    "                    maximum_met = True\r\n",
    "                    break\r\n",
    "                othernode = nonduplicates[j]\r\n",
    "                similarity = self.__node_sim(node,othernode)\r\n",
    "                if similarity >= sim_thresh:\r\n",
    "                    nonduplicates = nonduplicates[:j] + nonduplicates[j+1:]\r\n",
    "                    removed += 1\r\n",
    "                if maximum_to_remove!=None and removed >= maximum_to_remove:\r\n",
    "                    maximum_met = True\r\n",
    "                    break\r\n",
    "        self.nodes = nonduplicates\r\n",
    "        return(removed)        "
   ],
   "outputs": [],
   "metadata": {}
  },
  {
   "cell_type": "code",
   "execution_count": null,
   "source": [
    "class ComplexFunction:\r\n",
    "    def __init__(self, input_len,number_of_xors=5):\r\n",
    "        self.random_xors = [random.randint(0,input_len-1) for _ in range(number_of_xors)]\r\n",
    "    \r\n",
    "    def doRandomXors(self,v):\r\n",
    "        output = None\r\n",
    "        for num in self.random_xors:\r\n",
    "            if output == None:\r\n",
    "                output = round(v[num])\r\n",
    "            else:\r\n",
    "                output ^= round(v[num])\r\n",
    "        return(output)\r\n",
    "    \r\n",
    "    def getResult(self,v):\r\n",
    "        return(self.doRandomXors(v))\r\n"
   ],
   "outputs": [],
   "metadata": {}
  },
  {
   "cell_type": "code",
   "execution_count": 38,
   "source": [
    "test = MicroModelNetwork2(1)\r\n",
    "#cf = ComplexFunction(5,number_of_xors=10)"
   ],
   "outputs": [],
   "metadata": {}
  },
  {
   "cell_type": "code",
   "execution_count": 932,
   "source": [
    "cf.random_xors"
   ],
   "outputs": [
    {
     "output_type": "execute_result",
     "data": {
      "text/plain": [
       "[4, 3, 0, 4, 3, 2, 3, 0, 3, 1]"
      ]
     },
     "metadata": {},
     "execution_count": 932
    }
   ],
   "metadata": {}
  },
  {
   "cell_type": "code",
   "execution_count": 39,
   "source": [
    "\r\n",
    "for i in range(0,10):\r\n",
    "    #print(i,end=\" \")\r\n",
    "    test.addDerivativeNodes(60)\r\n",
    "    test.addNodes(60)\r\n",
    "    test.addDerivativeNodes(80)\r\n",
    "    for _ in range(160):\r\n",
    "        #v = [random.choice([1,0]) for _ in range(5)]\r\n",
    "        #expected = cf.getResult(v)\r\n",
    "        v = [.5]\r\n",
    "        expected = 1\r\n",
    "        test.evaluate(v,expected)\r\n",
    "        v = [0]\r\n",
    "        expected = 0\r\n",
    "        test.evaluate(v,expected)\r\n",
    "        v = [1]\r\n",
    "        expected = 0\r\n",
    "        test.evaluate(v,expected)\r\n",
    "\r\n",
    "\r\n",
    "  \r\n",
    "    duplicates = test.remove_duplicates(sim_thresh=.97,maximum_to_remove=0)\r\n",
    "    #print(f\"duplicates: {duplicates}\")\r\n",
    "    lowest = test.pruneLowest(.99,200-duplicates)\r\n",
    "    #print(f\"lowest: {lowest}\")\r\n",
    "    rand = test.pruneRandom(200-lowest-duplicates)\r\n",
    "    #print(f\"random: {rand}\")\r\n",
    "    #test.clearRange()\r\n"
   ],
   "outputs": [],
   "metadata": {}
  },
  {
   "cell_type": "code",
   "execution_count": 1117,
   "source": [
    "v = [random.choice([1,0]) for _ in range(5)]\r\n",
    "expected = cf.getResult(v)\r\n",
    "test.scale(v)\r\n",
    "actual = test.getScaled2(v)\r\n",
    "print(v)\r\n",
    "print(f\"expected: {expected}\")\r\n",
    "print(f\"actual: {actual}\")"
   ],
   "outputs": [
    {
     "output_type": "stream",
     "name": "stdout",
     "text": [
      "[0, 0, 1, 0, 1]\n",
      "expected: 1\n",
      "actual: 0.6413675977297508\n"
     ]
    }
   ],
   "metadata": {}
  },
  {
   "cell_type": "code",
   "execution_count": 63,
   "source": [
    "test.pruneLowest(.99,5)"
   ],
   "outputs": [
    {
     "output_type": "execute_result",
     "data": {
      "text/plain": [
       "5"
      ]
     },
     "metadata": {},
     "execution_count": 63
    }
   ],
   "metadata": {}
  },
  {
   "cell_type": "code",
   "execution_count": 91,
   "source": [
    "test.nodes[4].get([.5])"
   ],
   "outputs": [
    {
     "output_type": "execute_result",
     "data": {
      "text/plain": [
       "(0.5, 0.0)"
      ]
     },
     "metadata": {},
     "execution_count": 91
    }
   ],
   "metadata": {}
  },
  {
   "cell_type": "code",
   "execution_count": 67,
   "source": [
    "print(test.getScaled([1]))\r\n",
    "#print(test.getScaled([0,1]))\r\n",
    "#print(test.getScaled([1,1]))\r\n",
    "#print(test.getScaled([0,0]))"
   ],
   "outputs": [
    {
     "output_type": "stream",
     "name": "stdout",
     "text": [
      "0.5195437101441681\n"
     ]
    }
   ],
   "metadata": {}
  },
  {
   "cell_type": "code",
   "execution_count": 303,
   "source": [
    "0.4214748683099201 / abs(test.min_output - test.max_output)"
   ],
   "outputs": [
    {
     "output_type": "execute_result",
     "data": {
      "text/plain": [
       "1.5017948923088322"
      ]
     },
     "metadata": {},
     "execution_count": 303
    }
   ],
   "metadata": {}
  },
  {
   "cell_type": "code",
   "execution_count": 304,
   "source": [
    "test.min_output"
   ],
   "outputs": [
    {
     "output_type": "execute_result",
     "data": {
      "text/plain": [
       "0.37035963922697135"
      ]
     },
     "metadata": {},
     "execution_count": 304
    }
   ],
   "metadata": {}
  },
  {
   "cell_type": "code",
   "execution_count": 158,
   "source": [
    "test.getScaled([0,1])"
   ],
   "outputs": [
    {
     "output_type": "execute_result",
     "data": {
      "text/plain": [
       "-0.08658902924624574"
      ]
     },
     "metadata": {},
     "execution_count": 158
    }
   ],
   "metadata": {}
  },
  {
   "cell_type": "code",
   "execution_count": 248,
   "source": [
    "test.clearRange()"
   ],
   "outputs": [],
   "metadata": {}
  },
  {
   "cell_type": "code",
   "execution_count": 196,
   "source": [
    "test.scale([1,0])\r\n",
    "test.scale([0,1])\r\n",
    "test.scale([1,1])\r\n",
    "test.scale([0,0])"
   ],
   "outputs": [],
   "metadata": {}
  },
  {
   "cell_type": "code",
   "execution_count": 202,
   "source": [
    "round(.5)"
   ],
   "outputs": [
    {
     "output_type": "execute_result",
     "data": {
      "text/plain": [
       "0"
      ]
     },
     "metadata": {},
     "execution_count": 202
    }
   ],
   "metadata": {}
  },
  {
   "cell_type": "code",
   "execution_count": 4,
   "source": [
    "\r\n",
    "\r\n"
   ],
   "outputs": [],
   "metadata": {}
  },
  {
   "cell_type": "code",
   "execution_count": 381,
   "source": [
    "cf.random_xors"
   ],
   "outputs": [
    {
     "output_type": "execute_result",
     "data": {
      "text/plain": [
       "[]"
      ]
     },
     "metadata": {},
     "execution_count": 381
    }
   ],
   "metadata": {}
  }
 ]
}